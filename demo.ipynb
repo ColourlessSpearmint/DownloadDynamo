{
 "cells": [
  {
   "cell_type": "code",
   "execution_count": 1,
   "metadata": {},
   "outputs": [
    {
     "data": {
      "application/vnd.jupyter.widget-view+json": {
       "model_id": "0c3057022fd94e12a050f22a80903f81",
       "version_major": 2,
       "version_minor": 0
      },
      "text/plain": [
       "VBox(children=(Text(value='', description='YouTube URL:', layout=Layout(width='80%')), Button(button_style='su…"
      ]
     },
     "metadata": {},
     "output_type": "display_data"
    }
   ],
   "source": [
    "# If downloader script isn't already present, clone it from the repo\n",
    "try:\n",
    "  # Import downloader\n",
    "  from downloader import download_audio_and_metadata\n",
    "except ImportError:\n",
    "  # If downloader isn't present, assume the script is running in Colab or similar\n",
    "  \n",
    "  # Download downloader.py from the GitHub repository\n",
    "  !wget https://raw.githubusercontent.com/ColourlessSpearmint/DownloadDynamo/main/downloader.py\n",
    "  # If the script isn't present, likely neither are the dependencies; we install those too\n",
    "  !pip install yt-dlp mutagen pillow requests\n",
    "  # Import downloader again\n",
    "  from downloader import download_audio_and_metadata\n",
    "\n",
    "# Required imports for Jupyter interaction\n",
    "from IPython.display import display, Image as IPImage, Audio as IPAudio\n",
    "from ipywidgets import widgets, Layout, VBox\n",
    "\n",
    "# Interactive Interface using ipywidgets\n",
    "def on_button_click(b):\n",
    "    youtube_url = url_input.value\n",
    "    if youtube_url:\n",
    "        try:\n",
    "            audio_file, thumbnail_file, title, artist, album, album_artist, release_year, _ = download_audio_and_metadata(youtube_url)\n",
    "            # Display the results\n",
    "            result_output.clear_output()\n",
    "            with result_output:\n",
    "                display(f\"Audio downloaded: {audio_file}\")\n",
    "                display(f\"Title: {title}\")\n",
    "                display(f\"Artist: {artist}\")\n",
    "                display(f\"Album: {album}\")\n",
    "                display(f\"Year: {release_year}\")\n",
    "                display(IPAudio(audio_file))\n",
    "                if thumbnail_file:\n",
    "                    display(IPImage(thumbnail_file))\n",
    "        except Exception as e:\n",
    "            result_output.clear_output()\n",
    "            with result_output:\n",
    "                display(f\"Error: {str(e)}\")\n",
    "    else:\n",
    "        result_output.clear_output()\n",
    "        with result_output:\n",
    "            display(\"Please enter a valid YouTube URL.\")\n",
    "\n",
    "# Creating Input Fields and Button\n",
    "url_input = widgets.Text(\n",
    "    description=\"YouTube URL:\",\n",
    "    layout=Layout(width='80%')\n",
    ")\n",
    "\n",
    "download_button = widgets.Button(\n",
    "    description=\"Download Audio\",\n",
    "    button_style='success',\n",
    "    layout=Layout(width='20%')\n",
    ")\n",
    "\n",
    "# Output widget to display results\n",
    "result_output = widgets.Output()\n",
    "\n",
    "# Assign the button's click event\n",
    "download_button.on_click(on_button_click)\n",
    "\n",
    "# Display the UI\n",
    "display(VBox([url_input, download_button, result_output]))\n"
   ]
  }
 ],
 "metadata": {
  "kernelspec": {
   "display_name": "Python 3",
   "language": "python",
   "name": "python3"
  },
  "language_info": {
   "codemirror_mode": {
    "name": "ipython",
    "version": 3
   },
   "file_extension": ".py",
   "mimetype": "text/x-python",
   "name": "python",
   "nbconvert_exporter": "python",
   "pygments_lexer": "ipython3",
   "version": "3.11.9"
  }
 },
 "nbformat": 4,
 "nbformat_minor": 2
}
